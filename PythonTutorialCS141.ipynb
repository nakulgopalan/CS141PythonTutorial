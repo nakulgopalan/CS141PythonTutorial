{
 "cells": [
  {
   "cell_type": "markdown",
   "metadata": {},
   "source": [
    "<h1 style=\"text-align: center;\"> CS 141 Python Tutorial </h1>\n",
    "<h3 style=\"text-align: center;\">Nakul Gopalan</h3>\n",
    "<h3 style=\"text-align: center;\">nakul_gopalan@brown.edu</h3>\n",
    "<BR></BR>\n",
    "<h3 style=\"text-align: center;\">with help from Cam Allen-Lloyd</h3>"
   ]
  },
  {
   "cell_type": "markdown",
   "metadata": {},
   "source": [
    "<h2>What is Python?</h2>\n",
    "<img src=\"Python_logo_and_wordmark.png\" alt=\"Mountain View\" style=\"width:304px;height:228px;\">"
   ]
  },
  {
   "cell_type": "code",
   "execution_count": null,
   "metadata": {
    "collapsed": true
   },
   "outputs": [],
   "source": [
    "print \"hello world!\""
   ]
  },
  {
   "cell_type": "code",
   "execution_count": null,
   "metadata": {
    "collapsed": true
   },
   "outputs": [],
   "source": []
  }
 ],
 "metadata": {
  "kernelspec": {
   "display_name": "Python 2",
   "language": "python",
   "name": "python2"
  },
  "language_info": {
   "codemirror_mode": {
    "name": "ipython",
    "version": 2
   },
   "file_extension": ".py",
   "mimetype": "text/x-python",
   "name": "python",
   "nbconvert_exporter": "python",
   "pygments_lexer": "ipython2",
   "version": "2.7.6"
  }
 },
 "nbformat": 4,
 "nbformat_minor": 2
}
